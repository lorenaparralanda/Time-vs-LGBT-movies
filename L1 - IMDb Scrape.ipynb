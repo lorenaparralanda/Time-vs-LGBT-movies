{
 "cells": [
  {
   "cell_type": "code",
   "execution_count": 1,
   "metadata": {
    "collapsed": false
   },
   "outputs": [
    {
     "name": "stdout",
     "output_type": "stream",
     "text": [
      "[u'Jack Nicholson', u'Marlon Brando', u'Robert De Niro', u'Al Pacino', u'Daniel Day-Lewis', u'Dustin Hoffman', u'Tom Hanks', u'Anthony Hopkins', u'Paul Newman', u'Denzel Washington', u'Spencer Tracy', u'Laurence Olivier', u'Jack Lemmon', u'Michael Caine', u'James Stewart', u'Sean Penn', u'Robin Williams', u'Robert Duvall', u'Morgan Freeman', u'Jeff Bridges', u'Sidney Poitier', u\"Peter O'Toole\", u'Gene Hackman', u'Clint Eastwood', u'Tommy Lee Jones', u'Ben Kingsley', u'Leonardo DiCaprio', u'Russell Crowe', u'Philip Seymour Hoffman', u'Kevin Spacey', u'Humphrey Bogart', u'Gregory Peck', u'Clark Gable', u'Gary Cooper', u'George C. Scott', u'Jason Robards', u'Peter Sellers', u'Anthony Quinn', u'Charles Chaplin', u'Cary Grant', u'James Cagney', u'Richard Burton', u'Peter Finch', u'Burt Lancaster', u'Henry Fonda', u'John Wayne', u'Alec Guinness', u'William Holden', u'Sean Connery', u'Christopher Plummer', u'Alan Arkin', u'Christopher Walken', u'Michael Douglas', u'Joe Pesci', u'Ian McKellen', u'Jon Voight', u'Geoffrey Rush', u'Albert Finney', u'Jeremy Irons', u'Javier Bardem', u'Heath Ledger', u'Christoph Waltz', u'Johnny Depp', u'Ralph Fiennes', u'Jamie Foxx', u'Joaquin Phoenix', u'Nicolas Cage', u'Colin Firth', u'Matthew McConaughey', u'Samuel L. Jackson', u'Christian Bale', u'Benicio Del Toro', u'Don Cheadle', u'Matt Damon', u'Gary Oldman', u'Edward Norton', u'Brad Pitt', u'Robert Downey Jr.', u'Liam Neeson', u'Mel Gibson', u'Harrison Ford', u'Woody Allen', u'James Dean', u'Charles Laughton', u'Orson Welles', u'Robert Redford', u'Steve McQueen', u'Charlton Heston', u'Gene Kelly', u'Robert Mitchum', u'Kirk Douglas', u'Bill Murray', u'Jim Carrey', u'Hugh Jackman', u'Sylvester Stallone', u'Alan Rickman', u'Edward G. Robinson', u'Martin Sheen', u'Pete Postlethwaite', u'John Goodman']\n"
     ]
    }
   ],
   "source": [
    "# IMDb list of top 100 male actors\n",
    "\n",
    "import pandas as pd\n",
    "import requests\n",
    "from bs4 import BeautifulSoup\n",
    "\n",
    "url = 'http://www.imdb.com/list/ls050274118/'\n",
    "\n",
    "response = requests.get(url)\n",
    "page = response.text\n",
    "soup = BeautifulSoup(page,'lxml')\n",
    "\n",
    "male_names = soup.find_all(class_='info')\n",
    "\n",
    "males= []\n",
    "\n",
    "for male in male_names:\n",
    "    males.append(male.find('a').text)\n",
    "    \n",
    "print males"
   ]
  },
  {
   "cell_type": "code",
   "execution_count": 3,
   "metadata": {
    "collapsed": false
   },
   "outputs": [
    {
     "name": "stdout",
     "output_type": "stream",
     "text": [
      "[u'Meryl Streep', u'Katharine Hepburn', u'Ingrid Bergman', u'Bette Davis', u'Olivia de Havilland', u'Vivien Leigh', u'Audrey Hepburn', u'Greer Garson', u'Susan Hayward', u'Elizabeth Taylor', u'Joan Fontaine', u'Jane Fonda', u'Jessica Lange', u'Shirley MacLaine', u'Sissy Spacek', u'Ellen Burstyn', u'Helen Mirren', u'Judi Dench', u'Susan Sarandon', u'Sally Field', u'Diane Keaton', u'Faye Dunaway', u'Kathy Bates', u'Barbra Streisand', u'Glenn Close', u'Jodie Foster', u'Kate Winslet', u'Emma Thompson', u'Julie Andrews', u'Sophia Loren', u'Judy Garland', u'Grace Kelly', u'Greta Garbo', u'Jennifer Jones', u'Frances McDormand', u'Cate Blanchett', u'Julianne Moore', u'Nicole Kidman', u'Hilary Swank', u'Sigourney Weaver', u'Julia Roberts', u'Amy Adams', u'Holly Hunter', u'Natalie Portman', u'Barbara Stanwyck', u'Jane Wyman', u'Joan Crawford', u'Luise Rainer', u'Natalie Wood', u'Marilyn Monroe']\n"
     ]
    }
   ],
   "source": [
    "# IMDb list of top 50 female actors\n",
    "\n",
    "url = 'http://www.imdb.com/list/ls057000570/'\n",
    "\n",
    "response = requests.get(url)\n",
    "page = response.text\n",
    "soup = BeautifulSoup(page,'lxml')\n",
    "\n",
    "female_names = soup.find_all(class_='info')\n",
    "\n",
    "females = []\n",
    "\n",
    "for female in female_names:\n",
    "    females.append(female.find('a').text)\n",
    "    \n",
    "print females"
   ]
  },
  {
   "cell_type": "code",
   "execution_count": 4,
   "metadata": {
    "collapsed": false
   },
   "outputs": [
    {
     "name": "stdout",
     "output_type": "stream",
     "text": [
      "[u'Christopher Nolan', u'David Fincher', u'Steven Spielberg', u'Martin Scorsese', u'Darren Aronofsky', u'James Cameron', u'Stanley Kubrick', u'Quentin Tarantino', u'Clint Eastwood', u'Tim Burton', u'Roman Polanski', u'Joel Coen', u'Ridley Scott', u'Michael Mann', u'Woody Allen', u'David Cronenberg', u'Oliver Stone', u'Robert Altman', u'Spike Lee', u'Kathryn Bigelow', u'J.J. Abrams', u'Terrence Malick', u'David Lynch', u'Terry Gilliam', u'Peter Jackson', u'Guillermo del Toro', u'Danny Boyle', u'Paul Thomas Anderson', u'Edgar Wright', u'Jason Reitman', u'Alfred Hitchcock', u'Sergio Leone', u'Paul Greengrass', u'David O. Russell', u'Jonathan Demme', u'Wes Craven', u'Ingmar Bergman', u'Francis Ford Coppola', u'Curtis Hanson', u'Lars von Trier', u'Steven Soderbergh', u'Fritz Lang', u'Federico Fellini']\n"
     ]
    }
   ],
   "source": [
    "# IMDb list of top 43 directors\n",
    "\n",
    "url = 'http://www.imdb.com/list/ls006136043/'\n",
    "\n",
    "response = requests.get(url)\n",
    "page = response.text\n",
    "soup = BeautifulSoup(page,'lxml')\n",
    "\n",
    "director_names = soup.find_all(class_='info')\n",
    "\n",
    "directors = []\n",
    "\n",
    "for director in director_names:\n",
    "    directors.append(director.find('a').text)\n",
    "    \n",
    "print directors"
   ]
  },
  {
   "cell_type": "code",
   "execution_count": 5,
   "metadata": {
    "collapsed": false
   },
   "outputs": [
    {
     "name": "stdout",
     "output_type": "stream",
     "text": [
      "[u'Jerry Bruckheimer', u'Steven Spielberg', u'Harvey Weinstein', u'Graham King', u'Joel Silver', u'Dino De Laurentiis', u'Roger Corman', u'Don Simpson', u'David Geffen', u'Bob Weinstein', u'Brian Grazer', u'Jack L. Warner', u'Samuel Goldwyn', u'Frank Marshall', u'Kathleen Kennedy', u'Paula Wagner', u'Avi Arad', u'Jerry Weintraub', u'Walt Disney', u'Jeffrey Katzenberg', u'George Lucas', u'Peter Jackson', u'Judd Apatow', u'Kevin Feige']\n"
     ]
    }
   ],
   "source": [
    "# IMDb list of top 24 producers\n",
    "\n",
    "url = 'http://www.imdb.com/list/ls004559447/'\n",
    "\n",
    "response = requests.get(url)\n",
    "page = response.text\n",
    "soup = BeautifulSoup(page,'lxml')\n",
    "\n",
    "producers_names = soup.find_all(class_='info')\n",
    "\n",
    "producers = []\n",
    "\n",
    "for producer in producers_names:\n",
    "    producers.append(producer.find('a').text)\n",
    "\n",
    "print producers\n"
   ]
  },
  {
   "cell_type": "code",
   "execution_count": null,
   "metadata": {
    "collapsed": true
   },
   "outputs": [],
   "source": []
  }
 ],
 "metadata": {
  "anaconda-cloud": {},
  "kernelspec": {
   "display_name": "Python [default]",
   "language": "python",
   "name": "python2"
  },
  "language_info": {
   "codemirror_mode": {
    "name": "ipython",
    "version": 2
   },
   "file_extension": ".py",
   "mimetype": "text/x-python",
   "name": "python",
   "nbconvert_exporter": "python",
   "pygments_lexer": "ipython2",
   "version": "2.7.12"
  }
 },
 "nbformat": 4,
 "nbformat_minor": 1
}
